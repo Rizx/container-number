{
 "cells": [
  {
   "cell_type": "code",
   "execution_count": 1,
   "metadata": {},
   "outputs": [],
   "source": [
    "import os\n",
    "import sys\n",
    "import cv2\n",
    "import torch\n",
    "import requests\n",
    "import numpy as np\n",
    "from tqdm import tqdm\n",
    "from pathlib import Path\n",
    "from PIL import Image\n",
    "%matplotlib inline\n",
    "\n",
    "from config import(\n",
    "    DIRECTORY_MODEL, \n",
    "    DETECTION_MODEL,\n",
    "    CLASSES_DETECTION,\n",
    "    CLASSES_FILTERED\n",
    ")"
   ]
  },
  {
   "cell_type": "code",
   "execution_count": 2,
   "metadata": {},
   "outputs": [],
   "source": [
    "class SealDetection:\n",
    "    '''\n",
    "    Load custom model YoloV5\n",
    "    for detection seal container number\n",
    "    '''\n",
    "    def __init__(self, model_name):\n",
    "        self.model_name = model_name\n",
    "        self.device     = 'cuda' if torch.cuda.is_available() else 'cpu'\n",
    "        self.model_path = os.path.join(DIRECTORY_MODEL, DETECTION_MODEL[self.model_name]['filename'])\n",
    "        self.__check_model()\n",
    "        self.model      = self.__load_model(self.model_path)\n",
    "        \n",
    "    @staticmethod\n",
    "    def __load_model(model_path):\n",
    "        try: model = torch.hub.load('ultralytics/yolov5', 'custom', path=model_path)\n",
    "        except: sys.exit('Error load model')\n",
    "        return model\n",
    "            \n",
    "    def __check_model(self):\n",
    "        '''\n",
    "        Checking model in model_path\n",
    "        download model if file not found\n",
    "        '''\n",
    "        Path(DIRECTORY_MODEL).mkdir(parents=True, exist_ok=True)\n",
    "        if not os.path.isfile(self.model_path):\n",
    "            print(f'Downloading {self.model_name} detection model, please wait.')\n",
    "            response = requests.get(DETECTION_MODEL[self.model_name]['url'], stream=True)\n",
    "            \n",
    "            progress = tqdm(response.iter_content(1024), \n",
    "                        f'Downloading {DETECTION_MODEL[self.model_name][\"filename\"]}', \n",
    "                        total=DETECTION_MODEL[self.model_name]['file_size'], unit='B', \n",
    "                        unit_scale=True, unit_divisor=1024)\n",
    "            with open(self.model_path, 'wb') as f:\n",
    "                for data in progress:\n",
    "                    f.write(data)\n",
    "                    progress.update(len(data))\n",
    "                print(f'Done downloaded {DETECTION_MODEL[self.model_name][\"filename\"]} detection model.')\n",
    "        else:\n",
    "            print(f'Load {DETECTION_MODEL[self.model_name][\"filename\"]} detection model.')\n",
    "\n",
    "    @staticmethod\n",
    "    def extract_result(results, min_confidence=0.0):\n",
    "        '''\n",
    "        Format result([tensor([[151.13147, 407.76913, 245.91382, 454.27802,   0.89075,   0.00000]])])\n",
    "        Filter min confidence prediction and classes id/name\n",
    "        Cropped image and get index max value confidence lavel\n",
    "        Args:\n",
    "            result(models.common.Detections): result detection YoloV5\n",
    "            min_confidence(float): minimal confidence detection in range 0-1\n",
    "        Return:\n",
    "            result(dict): {\n",
    "                casess:[{\n",
    "                    confidence(float): confidence,\n",
    "                    bbox(list) : [x_min, y_min, x_max, y_max]\n",
    "                }]\n",
    "            }\n",
    "        '''\n",
    "        results_format  = results.xyxy\n",
    "        results_filter =  dict({i:list() for i in CLASSES_FILTERED})\n",
    "        \n",
    "        if len(results_format[0]) >= 1:\n",
    "            for i in range(len(results_format[0])):\n",
    "                classes_name    = CLASSES_DETECTION[int(results_format[0][i][-1])]\n",
    "                confidence      = float(results_format[0][i][-2])\n",
    "                # print(classes_name, confidence)\n",
    "                if classes_name in CLASSES_FILTERED and confidence >= min_confidence:\n",
    "                    x_min, y_min = int(results_format[0][i][0]), int(results_format[0][i][1])\n",
    "                    x_max, y_max = int(results_format[0][i][2]), int(results_format[0][i][3])\n",
    "                    results_filter[classes_name].append(\n",
    "                        {'confidence': round(confidence,2), \n",
    "                        'bbox':[x_min, y_min, x_max, y_max]}\n",
    "                    )\n",
    "        # Delete key if detection null\n",
    "        for i in CLASSES_FILTERED:results_filter.__delitem__(i) if not results_filter[i] else None\n",
    "\n",
    "        return results_filter\n",
    "    \n",
    "    def detection(self, image, size=None):\n",
    "        '''\n",
    "        Prediction image object detectionn YoloV5\n",
    "        Args:\n",
    "            image(numpy.ndarray) : image/frame\n",
    "        Return:\n",
    "            results_prediction(models.common.Detections) : results -> convert to (results.xyxy/resultsxywh)\n",
    "        '''\n",
    "        if size: results = self.model(image, size=size)\n",
    "        else: results = self.model(image)\n",
    "        return results"
   ]
  },
  {
   "cell_type": "code",
   "execution_count": 3,
   "metadata": {},
   "outputs": [],
   "source": [
    "\n",
    "class MainProcess:\n",
    "    '''\n",
    "        Main process seal detection\n",
    "    '''\n",
    "    def __init__(self):\n",
    "        self.seal_detection = SealDetection('seal_detection')\n",
    "\n",
    "    def __detection(self, image, size, threshold):\n",
    "        '''\n",
    "            Detection object\n",
    "            Args:\n",
    "                image(np.array) : image for detection\n",
    "                size(int)       : size image detection\n",
    "                threshold(float): min confidence\n",
    "            Return:\n",
    "                result(dict): {\n",
    "                casess:[{\n",
    "                    confidence(float): confidence,\n",
    "                    bbox(list) : [x_min, y_min, x_max, y_max]\n",
    "                }]\n",
    "            }\n",
    "        '''\n",
    "        results = self.seal_detection.\\\n",
    "                detection(image=image, size=size)\n",
    "        result  = self.seal_detection.\\\n",
    "                extract_result(results=results, min_confidence=threshold)\n",
    "        return result\n",
    "        \n",
    "    def main(self, image, size, threshold):\n",
    "        # Detection seal\n",
    "        result = self.__detection(image, size=size, threshold=threshold)\n",
    "        if not result: print(f'Seal not found'); return list()\n",
    "        else: print('Seal Found')\n",
    "        print(result)\n",
    "        # Extract result to list\n",
    "        result_list = [[[x['bbox'], key,  x['confidence']] for x in value]\\\n",
    "                      for key, value in result.items()][0]\n",
    "\n",
    "        return result_list"
   ]
  },
  {
   "cell_type": "code",
   "execution_count": 173,
   "metadata": {},
   "outputs": [],
   "source": [
    "def draw_rectangle_list(image, result_list, resize=100):\n",
    "    '''\n",
    "    Draw bounding box, label and clases detection image\n",
    "    Args:\n",
    "        img(numpy.ndarray) : image/frame\n",
    "        result(list) : [[x_min, y_min, x_max, y_max, classes_name, confidence]]\n",
    "    return : \n",
    "        image(numpy.ndarray)\n",
    "    '''\n",
    "    if len(result_list):\n",
    "        for i in result_list:\n",
    "            x_min, x_max = i[0][0], i[0][2]\n",
    "            y_min, y_max = i[0][1], i[0][3]\n",
    "            classes_name = i[1]\n",
    "            confidence   = int(i[2]*100)\n",
    "            color \t\t = (255, 117, 0)\n",
    "            # Draw rectangle\n",
    "            \n",
    "            # Add label\n",
    "            if classes_name == 'seal':\n",
    "                cv2.rectangle(image, (x_min, y_min), (x_max, y_max), color, 2)\n",
    "                cv2.rectangle(image, (x_min, y_min-35), (x_min+150, y_min), color, cv2.FILLED)\n",
    "                cv2.putText(image, f'{classes_name} found'.upper(), (x_min-2,y_min-12), cv2.FONT_HERSHEY_COMPLEX, 0.7, (255, 255, 255), 1)\n",
    "            elif len(classes_name) > 4:\n",
    "                cv2.rectangle(image, (x_min, y_min), (x_max, y_max), color, 2)\n",
    "                cv2.rectangle(image, (x_min, y_min-50), (x_min+310, y_min), color, cv2.FILLED)\n",
    "                cv2.putText(image, f'{classes_name}'.upper(), (x_min+10,y_min-12), cv2.FONT_HERSHEY_COMPLEX, 1, (255, 255, 255), 2)\n",
    "            else:\n",
    "                cv2.rectangle(image, (x_min, y_min), (x_max, y_max), color, 2)\n",
    "                cv2.rectangle(image, (x_min, y_max+40), (x_min+120, y_max), color, cv2.FILLED)\n",
    "                cv2.putText(image, f'{classes_name}'.upper(), (x_min+10,y_max+30), cv2.FONT_HERSHEY_COMPLEX, 1.2, (255, 255, 255), 2)\n",
    "    width   = int(image.shape[1] * resize / 100)\n",
    "    height  = int(image.shape[0] * resize / 100)\n",
    "    # resize image\n",
    "    resized = cv2.resize(image, (width, height), interpolation = cv2.INTER_AREA)\n",
    "    return resized"
   ]
  },
  {
   "cell_type": "code",
   "execution_count": 5,
   "metadata": {},
   "outputs": [
    {
     "name": "stdout",
     "output_type": "stream",
     "text": [
      "Load seal_detection_v1_2.pt detection model.\n"
     ]
    },
    {
     "name": "stderr",
     "output_type": "stream",
     "text": [
      "Using cache found in /home/smartcam/.cache/torch/hub/ultralytics_yolov5_master\n",
      "YOLOv5 🚀 2022-2-28 torch 1.8.0 CUDA:0 (NVIDIA Tegra X1, 3964MiB)\n",
      "\n",
      "Fusing layers... \n",
      "Model Summary: 232 layers, 7249215 parameters, 0 gradients\n",
      "Adding AutoShape... \n"
     ]
    }
   ],
   "source": [
    "process = MainProcess()"
   ]
  },
  {
   "cell_type": "code",
   "execution_count": 210,
   "metadata": {},
   "outputs": [
    {
     "name": "stdout",
     "output_type": "stream",
     "text": [
      "Seal Found\n",
      "{'seal': [{'confidence': 0.94, 'bbox': [596, 824, 618, 882]}]}\n"
     ]
    },
    {
     "data": {
      "text/plain": [
       "[[[596, 824, 618, 882], 'seal', 0.94]]"
      ]
     },
     "execution_count": 210,
     "metadata": {},
     "output_type": "execute_result"
    }
   ],
   "source": [
    "image   = cv2.imread('./images/new2/images26.jpeg')\n",
    "results = process.main(image, size=None, threshold=0.0)\n",
    "drawed  = draw_rectangle_list(image, results, resize=100)\n",
    "\n",
    "Image.fromarray(cv2.cvtColor(drawed, cv2.COLOR_BGR2RGB))"
   ]
  },
  {
   "cell_type": "code",
   "execution_count": 211,
   "metadata": {},
   "outputs": [],
   "source": [
    "results.append([[561, 201, 909, 306], 'CBHU7008108', 0.8939186930656433])\n",
    "results.append([[696, 258, 814, 355], '45G1', 0.8484043478965759])\n",
    "\n",
    "# [[561, 201, 909, 306, 'container_number', 0.6439760327339172], [696, 258, 814, 355, 'iso_code', 0.6439760327339172]]"
   ]
  },
  {
   "cell_type": "code",
   "execution_count": 213,
   "metadata": {},
   "outputs": [
    {
     "data": {
      "text/plain": [
       "True"
      ]
     },
     "execution_count": 213,
     "metadata": {},
     "output_type": "execute_result"
    }
   ],
   "source": [
    "# name = 'images3.jpeg'\n",
    "# image   = cv2.imread(f'./images/new2/{name}')\n",
    "drawed  = draw_rectangle_list(image, results, resize=100)\n",
    "\n",
    "Image.fromarray(cv2.cvtColor(drawed, cv2.COLOR_BGR2RGB))\n",
    "cv2.imwrite(f'./images/new2/results/images26.jpeg', drawed)"
   ]
  },
  {
   "cell_type": "code",
   "execution_count": 68,
   "metadata": {},
   "outputs": [
    {
     "name": "stdout",
     "output_type": "stream",
     "text": [
      "./images/new/images 6.jpeg\n",
      "Seal Found\n",
      "{'seal': [{'confidence': 0.88, 'bbox': [829, 843, 886, 974]}]}\n",
      "./images/new/images 13.jpeg\n",
      "Seal Found\n",
      "{'seal': [{'confidence': 0.94, 'bbox': [741, 833, 793, 955]}]}\n",
      "./images/new/images 9.jpeg\n",
      "Seal not found\n",
      "./images/new/images 4.jpeg\n",
      "Seal Found\n",
      "{'seal': [{'confidence': 0.94, 'bbox': [785, 778, 832, 897]}, {'confidence': 0.82, 'bbox': [148, 58, 167, 107]}]}\n",
      "./images/new/images 12.jpeg\n",
      "Seal Found\n",
      "{'seal': [{'confidence': 0.9, 'bbox': [761, 665, 822, 782]}]}\n",
      "./images/new/images 5.jpeg\n",
      "Seal not found\n",
      "./images/new/images 15.jpeg\n",
      "Seal not found\n",
      "./images/new/images 7.jpeg\n",
      "Seal not found\n",
      "./images/new/images 14.jpeg\n",
      "Seal Found\n",
      "{'seal': [{'confidence': 0.91, 'bbox': [767, 667, 814, 778]}]}\n",
      "./images/new/images 10.jpeg\n",
      "Seal Found\n",
      "{'seal': [{'confidence': 0.94, 'bbox': [670, 1176, 771, 1271]}]}\n",
      "./images/new/images 8.jpeg\n",
      "Seal not found\n",
      "./images/new/images 11.jpeg\n",
      "Seal not found\n",
      "./images/new/images 1.jpeg\n",
      "Seal Found\n",
      "{'seal': [{'confidence': 0.93, 'bbox': [855, 725, 900, 833]}]}\n",
      "./images/new/images 3.jpeg\n",
      "Seal Found\n",
      "{'seal': [{'confidence': 0.85, 'bbox': [784, 910, 831, 1019]}]}\n",
      "./images/new/images 2.jpeg\n",
      "Seal Found\n",
      "{'seal': [{'confidence': 0.94, 'bbox': [829, 874, 874, 983]}]}\n"
     ]
    }
   ],
   "source": [
    "import glob\n",
    "\n",
    "image_list = glob.glob('./images/new/*.jpeg')\n",
    "for i in image_list:\n",
    "    image = cv2.imread(i)\n",
    "    print(i)\n",
    "    results = process.main(image, size=None, threshold=0.78)\n",
    "    drawed  = draw_rectangle_list(image, results, resize=40)\n",
    "    cv2.imwrite(f'./images/new/results/{i.split(\"/\")[-1]}', drawed)\n",
    "    # break"
   ]
  },
  {
   "cell_type": "code",
   "execution_count": null,
   "metadata": {},
   "outputs": [],
   "source": [
    "result = {'seal': [{'confidence': 0.93, 'bbox': [2324, 2400, 2009, 2197]}, {'confidence': 0.85, 'bbox': [2424, 2511, 2302, 2514]}]}\n",
    "\n",
    "result_list = [[[x['bbox'], key,  x['confidence']] for x in value]\\\n",
    "                      for key, value in result.items()][0]\n",
    "result_list"
   ]
  }
 ],
 "metadata": {
  "interpreter": {
   "hash": "31f2aee4e71d21fbe5cf8b01ff0e069b9275f58929596ceb00d14d90e3e16cd6"
  },
  "kernelspec": {
   "display_name": "Python 3.6.9 64-bit",
   "language": "python",
   "name": "python3"
  },
  "language_info": {
   "codemirror_mode": {
    "name": "ipython",
    "version": 3
   },
   "file_extension": ".py",
   "mimetype": "text/x-python",
   "name": "python",
   "nbconvert_exporter": "python",
   "pygments_lexer": "ipython3",
   "version": "3.6.9"
  },
  "orig_nbformat": 4
 },
 "nbformat": 4,
 "nbformat_minor": 2
}
